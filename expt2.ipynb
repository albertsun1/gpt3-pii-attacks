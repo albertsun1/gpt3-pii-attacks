{
 "cells": [
  {
   "cell_type": "markdown",
   "source": [
    "# Autocompletion\n",
    "To replicate this experiment, fine-tune a GPT-3 model using the OpenAI API. The emails data are saved in the `expt2-data/finetuning_data.json` folder for fine-tuning. \n",
    "\n",
    "To test the model, use the function below to generate 5 Autocompletion generations per prompt. Use the code for both the in-distribution training data (the prompts in the `expt2-data/finetuning_data.json` file), and use the prompts in the `expt2-data/ood_subjects.txt` for OOD prompts. Use spaCy NER software specified in the paper to get all the entities from the generations and the original fine-tuning data (`expt2-data/finetuning_data.json`), and compare the generated PIIs from the generated data and the original fine-tuning data. "
   ],
   "metadata": {}
  },
  {
   "cell_type": "code",
   "execution_count": null,
   "source": [
    "import os\n",
    "import openai\n",
    "import time \n",
    "\n",
    "openai.api_key_path=\"api_key.txt\"\n",
    "\n",
    "responses = []\n",
    "\n",
    "def generate_five_responses_per_prompt(prompts):\n",
    "  for i, prompt in enumerate(prompts):\n",
    "    print(i)\n",
    "    response = openai.Completion.create(\n",
    "      model=\"curie\", #REPLACE WITH YOUR FINE-TUNING MODEL\n",
    "      prompt=[prompt] * 5,\n",
    "      temperature=0.5,\n",
    "      max_tokens=256,\n",
    "      top_p=1,\n",
    "      frequency_penalty=0,\n",
    "      presence_penalty=0,\n",
    "      stop=[\"END\"]\n",
    "    )\n",
    "    responses.extend([response['choices'][j]['text'] for j in range(5)])\n",
    "    time.sleep(1)\n"
   ],
   "outputs": [],
   "metadata": {}
  }
 ],
 "metadata": {
  "orig_nbformat": 4,
  "language_info": {
   "name": "python",
   "version": "3.10.6",
   "mimetype": "text/x-python",
   "codemirror_mode": {
    "name": "ipython",
    "version": 3
   },
   "pygments_lexer": "ipython3",
   "nbconvert_exporter": "python",
   "file_extension": ".py"
  },
  "kernelspec": {
   "name": "python3",
   "display_name": "Python 3.10.6 64-bit ('nlp': conda)"
  },
  "interpreter": {
   "hash": "e678fb984bd189314f995ebb48f7b1642aa5a73c8e1bc8f4c349e3947f412d39"
  }
 },
 "nbformat": 4,
 "nbformat_minor": 2
}